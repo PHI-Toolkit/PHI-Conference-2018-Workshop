{
 "cells": [
  {
   "cell_type": "code",
   "execution_count": 1,
   "metadata": {},
   "outputs": [
    {
     "data": {
      "text/html": [
       "<style> \n",
       "div.text_cell_render { /* Customize text cells */ \n",
       "    font-family: 'Arial'; \n",
       "    font-size:20px;\n",
       "    line-height: 1.5em;\n",
       "    padding-left:3em; \n",
       "    padding-right:3em; \n",
       "}\n",
       ".CodeMirror {\n",
       "    font-family:  'Source Code Pro', monospace;\n",
       "    font-size: 18px;\n",
       "}\n",
       "\n",
       "/* Cell output */\n",
       "\n",
       ".rendered_html pre, .rendered_html code {\n",
       "    color: inherit !important;\n",
       "    background-color: inherit !important;\n",
       "}\n",
       "div.output_area pre {\n",
       "    line-height: 1.2em;\n",
       "    color: #93a1a1 !important;\n",
       "    font-family: 'Source Code Pro', monospace;\n",
       "    font-size: 16px;\n",
       "}\n",
       ".rendered_html table, .rendered_html td, .rendered_html th {\n",
       "    border: 1px solid #586e75 !important;\n",
       "    font-family: 'Arial';\n",
       "    font-size: 16px;\n",
       "}\n",
       "</style>"
      ],
      "text/plain": [
       "<IPython.core.display.HTML object>"
      ]
     },
     "execution_count": 1,
     "metadata": {},
     "output_type": "execute_result"
    }
   ],
   "source": [
    "%run ../resources/library.py\n",
    "style_notebook()"
   ]
  },
  {
   "cell_type": "markdown",
   "metadata": {},
   "source": [
    "# Packaging Notebook"
   ]
  },
  {
   "cell_type": "markdown",
   "metadata": {},
   "source": [
    "> Run this notebook to package the Cholera Case Study for distribution as a zip file.  \n",
    "> We will use the `%%bash` magic to convert the Python 3.5 cell into a bash shell."
   ]
  },
  {
   "cell_type": "markdown",
   "metadata": {},
   "source": [
    "## Folder structure to be zipped"
   ]
  },
  {
   "cell_type": "markdown",
   "metadata": {},
   "source": [
    "* `PHI-Conference-2018`  \n",
    "   * `Cholera-Case-Study`\n",
    "      * `data`\n",
    "      * `images`\n",
    "      * `resources`\n",
    "      * `(other files generated from workshop)`\n",
    "   * `Exercise-Notebooks`\n",
    "      * `data`\n",
    "      * `images`\n",
    "      * `resources`\n",
    "      * \n",
    "   * `Jupyter-Notebook-Basics`\n",
    "   * `Packaging-Notebook`\n",
    "   * `README.ipynb`"
   ]
  },
  {
   "cell_type": "code",
   "execution_count": 2,
   "metadata": {},
   "outputs": [
    {
     "name": "stdout",
     "output_type": "stream",
     "text": [
      "total 36\n",
      "drwxr-xr-x 8 jovyan users 4096 Aug 17 21:09 .\n",
      "drwxrwxrwx 3 jovyan users 4096 Aug 17 21:25 ..\n",
      "drwxr-xr-x 6 jovyan users 4096 Aug  8 17:28 Cholera-Case-Study\n",
      "drwxr-xr-x 6 jovyan users 4096 Aug 17 21:57 Exercise-Notebooks\n",
      "drwxr-xr-x 2 jovyan users 4096 Aug  9 10:42 .ipynb_checkpoints\n",
      "drwxr-xr-x 8 jovyan users 4096 Aug 11 20:45 Jupyter-Notebook-Basics\n",
      "drwxr-xr-x 3 jovyan users 4096 Aug 17 21:59 Packaging-Notebook\n",
      "-rw-r--r-- 1 jovyan users 3327 Aug 17 21:09 README.ipynb\n",
      "drwxr-xr-x 2 jovyan users 4096 Aug 11 20:43 resources\n"
     ]
    }
   ],
   "source": [
    "%%bash\n",
    "# this is the folder to be zipped\n",
    "# 'ls' lists the files in the folder\n",
    "# the double dot goes up one folder level higher where this notebook is\n",
    "ls -la ../../PHI-Conference-2018"
   ]
  },
  {
   "cell_type": "code",
   "execution_count": 3,
   "metadata": {
    "scrolled": false
   },
   "outputs": [
    {
     "name": "stdout",
     "output_type": "stream",
     "text": [
      "  adding: ../../PHI-Conference-2018/\t(in=0) (out=0) (stored 0%)\n",
      "  adding: ../../PHI-Conference-2018/Jupyter-Notebook-Basics/\t(in=0) (out=0) (stored 0%)\n",
      "  adding: ../../PHI-Conference-2018/Jupyter-Notebook-Basics/images/\t(in=0) (out=0) (stored 0%)\n",
      "  adding: ../../PHI-Conference-2018/Jupyter-Notebook-Basics/images/disruptive_tech.png \t(in=272338) (out=245464) (deflated 10%)\n",
      "  adding: ../../PHI-Conference-2018/Jupyter-Notebook-Basics/images/.ipynb_checkpoints/\t(in=0) (out=0) (stored 0%)\n",
      "  adding: ../../PHI-Conference-2018/Jupyter-Notebook-Basics/images/.ipynb_checkpoints/python-checkpoint.png \t(in=350104) (out=339928) (deflated 3%)\n",
      "  adding: ../../PHI-Conference-2018/Jupyter-Notebook-Basics/images/.ipynb_checkpoints/digitalcities-checkpoint.jpeg .\t(in=12061332) (out=12045075) (deflated 0%)\n",
      "  adding: ../../PHI-Conference-2018/Jupyter-Notebook-Basics/images/.ipynb_checkpoints/Shift-Enter-checkpoint.png\t(in=8031) (out=7993) (deflated 0%)\n",
      "  adding: ../../PHI-Conference-2018/Jupyter-Notebook-Basics/images/python.png \t(in=350104) (out=339928) (deflated 3%)\n",
      "  adding: ../../PHI-Conference-2018/Jupyter-Notebook-Basics/images/digitalcities.jpeg .\t(in=12061332) (out=12045075) (deflated 0%)\n",
      "  adding: ../../PHI-Conference-2018/Jupyter-Notebook-Basics/images/Shift-Enter.png\t(in=8031) (out=7993) (deflated 0%)\n",
      "  adding: ../../PHI-Conference-2018/Jupyter-Notebook-Basics/images/IVC3.png \t(in=571097) (out=500853) (deflated 12%)\n",
      "  adding: ../../PHI-Conference-2018/Jupyter-Notebook-Basics/.ipynb_checkpoints/\t(in=0) (out=0) (stored 0%)\n",
      "  adding: ../../PHI-Conference-2018/Jupyter-Notebook-Basics/.ipynb_checkpoints/GEEKS-Case-Study-Notebook-0-Jupyter-checkpoint.ipynb\t(in=15481) (out=4960) (deflated 68%)\n",
      "  adding: ../../PHI-Conference-2018/Jupyter-Notebook-Basics/cache/\t(in=0) (out=0) (stored 0%)\n",
      "  adding: ../../PHI-Conference-2018/Jupyter-Notebook-Basics/GEEKS-Case-Study-Notebook-0-Jupyter.ipynb\t(in=15481) (out=4960) (deflated 68%)\n",
      "  adding: ../../PHI-Conference-2018/Jupyter-Notebook-Basics/resources/\t(in=0) (out=0) (stored 0%)\n",
      "  adding: ../../PHI-Conference-2018/Jupyter-Notebook-Basics/resources/.ipynb_checkpoints/\t(in=0) (out=0) (stored 0%)\n",
      "  adding: ../../PHI-Conference-2018/Jupyter-Notebook-Basics/audio/\t(in=0) (out=0) (stored 0%)\n",
      "  adding: ../../PHI-Conference-2018/Jupyter-Notebook-Basics/audio/helloWorld!.mp3\t(in=4704) (out=4345) (deflated 8%)\n",
      "  adding: ../../PHI-Conference-2018/Jupyter-Notebook-Basics/outputs/\t(in=0) (out=0) (stored 0%)\n",
      "  adding: ../../PHI-Conference-2018/Packaging-Notebook/\t(in=0) (out=0) (stored 0%)\n",
      "  adding: ../../PHI-Conference-2018/Packaging-Notebook/.ipynb_checkpoints/\t(in=0) (out=0) (stored 0%)\n",
      "  adding: ../../PHI-Conference-2018/Packaging-Notebook/.ipynb_checkpoints/Packaging-Notebook-checkpoint.ipynb\t(in=18714) (out=3413) (deflated 82%)\n",
      "  adding: ../../PHI-Conference-2018/Packaging-Notebook/Packaging-Notebook.ipynb\t(in=20762) (out=3894) (deflated 81%)\n",
      "  adding: ../../PHI-Conference-2018/.ipynb_checkpoints/\t(in=0) (out=0) (stored 0%)\n",
      "  adding: ../../PHI-Conference-2018/.ipynb_checkpoints/README-checkpoint.ipynb\t(in=3327) (out=1068) (deflated 68%)\n",
      "  adding: ../../PHI-Conference-2018/Cholera-Case-Study/\t(in=0) (out=0) (stored 0%)\n",
      "  adding: ../../PHI-Conference-2018/Cholera-Case-Study/images/\t(in=0) (out=0) (stored 0%)\n",
      "  adding: ../../PHI-Conference-2018/Cholera-Case-Study/images/Sir_Edwin_Chadwick2.jpg \t(in=223308) (out=222311) (deflated 0%)\n",
      "  adding: ../../PHI-Conference-2018/Cholera-Case-Study/images/Jupyter_files.jpg\t(in=29084) (out=16261) (deflated 44%)\n",
      "  adding: ../../PHI-Conference-2018/Cholera-Case-Study/images/Florence_Nightingale.jpg \t(in=134296) (out=132255) (deflated 2%)\n",
      "  adding: ../../PHI-Conference-2018/Cholera-Case-Study/images/Queen_Victoria.jpg \t(in=165189) (out=165151) (deflated 0%)\n",
      "  adding: ../../PHI-Conference-2018/Cholera-Case-Study/images/TimBrown.png \t(in=1864376) (out=1864243) (deflated 0%)\n",
      "  adding: ../../PHI-Conference-2018/Cholera-Case-Study/images/John_Simon.jpg \t(in=182561) (out=182404) (deflated 0%)\n",
      "  adding: ../../PHI-Conference-2018/Cholera-Case-Study/images/Jupyter_files3.JPG \t(in=84595) (out=44030) (deflated 48%)\n",
      "  adding: ../../PHI-Conference-2018/Cholera-Case-Study/images/William_Farr.jpg \t(in=243183) (out=243130) (deflated 0%)\n",
      "  adding: ../../PHI-Conference-2018/Cholera-Case-Study/images/John_Snow.jpg \t(in=354139) (out=353852) (deflated 0%)\n",
      "  adding: ../../PHI-Conference-2018/Cholera-Case-Study/images/Jon_Snow.jpg\t(in=22266) (out=21995) (deflated 1%)\n",
      "  adding: ../../PHI-Conference-2018/Cholera-Case-Study/images/Edmund_Alexander_Parkes.jpg \t(in=222297) (out=222332) (deflated 0%)\n",
      "  adding: ../../PHI-Conference-2018/Cholera-Case-Study/images/Edwin_Lankester.jpg \t(in=225317) (out=225268) (deflated 0%)\n",
      "  adding: ../../PHI-Conference-2018/Cholera-Case-Study/images/Workhouse_Nantwich.jpg \t(in=465729) (out=463940) (deflated 0%)\n",
      "  adding: ../../PHI-Conference-2018/Cholera-Case-Study/images/Whitehead_henry1884.jpg \t(in=134873) (out=126537) (deflated 6%)\n",
      "  adding: ../../PHI-Conference-2018/Cholera-Case-Study/images/map_1.png \t(in=283999) (out=252227) (deflated 11%)\n",
      "  adding: ../../PHI-Conference-2018/Cholera-Case-Study/data/\t(in=0) (out=0) (stored 0%)\n",
      "  adding: ../../PHI-Conference-2018/Cholera-Case-Study/data/us-states.json \t(in=87688) (out=29001) (deflated 67%)\n",
      "  adding: ../../PHI-Conference-2018/Cholera-Case-Study/data/.ipynb_checkpoints/\t(in=0) (out=0) (stored 0%)\n",
      "  adding: ../../PHI-Conference-2018/Cholera-Case-Study/data/us_pop_landscan2015.csv\t(in=4399) (out=2263) (deflated 49%)\n",
      "  adding: ../../PHI-Conference-2018/Cholera-Case-Study/data/us_states.geojson \t(in=103466) (out=30745) (deflated 70%)\n",
      "  adding: ../../PHI-Conference-2018/Cholera-Case-Study/.ipynb_checkpoints/\t(in=0) (out=0) (stored 0%)\n",
      "  adding: ../../PHI-Conference-2018/Cholera-Case-Study/resources/\t(in=0) (out=0) (stored 0%)\n",
      "  adding: ../../PHI-Conference-2018/Cholera-Case-Study/resources/John_Snow_Social_Network_1854_v5.xls\t(in=43008) (out=10743) (deflated 75%)\n",
      "  adding: ../../PHI-Conference-2018/Cholera-Case-Study/resources/johnsnow.csv\t(in=11199) (out=2343) (deflated 79%)\n",
      "  adding: ../../PHI-Conference-2018/Cholera-Case-Study/resources/johnsnow_pumps.csv\t(in=212) (out=108) (deflated 49%)\n",
      "  adding: ../../PHI-Conference-2018/Cholera-Case-Study/resources/Colormaps_0.html\t(in=0) (out=0) (stored 0%)\n",
      "  adding: ../../PHI-Conference-2018/Cholera-Case-Study/resources/cholera_deaths.csv\t(in=6607) (out=2056) (deflated 69%)\n",
      "  adding: ../../PHI-Conference-2018/Cholera-Case-Study/resources/Heatmap.html\t(in=9077) (out=4200) (deflated 54%)\n",
      "  adding: ../../PHI-Conference-2018/Cholera-Case-Study/resources/John_Snow_Social_Network_1854_v6.xls\t(in=43008) (out=10749) (deflated 75%)\n",
      "  adding: ../../PHI-Conference-2018/Cholera-Case-Study/resources/library.py\t(in=555) (out=335) (deflated 40%)\n",
      "  adding: ../../PHI-Conference-2018/Cholera-Case-Study/resources/.ipynb_checkpoints/\t(in=0) (out=0) (stored 0%)\n",
      "  adding: ../../PHI-Conference-2018/Cholera-Case-Study/resources/John_Snow_Social_Network_1854.xls\t(in=41472) (out=10386) (deflated 75%)\n",
      "  adding: ../../PHI-Conference-2018/Cholera-Case-Study/resources/John_Snow_Social_Network_1854.csv\t(in=4108) (out=1739) (deflated 58%)\n",
      "  adding: ../../PHI-Conference-2018/Cholera-Case-Study/resources/mean_center_df.pickle\t(in=13122) (out=5763) (deflated 56%)\n",
      "  adding: ../../PHI-Conference-2018/Cholera-Case-Study/resources/John_Snow_Social_Network_1854_v4.xls\t(in=43008) (out=10725) (deflated 75%)\n",
      "  adding: ../../PHI-Conference-2018/Cholera-Case-Study/resources/John_Snow_Social_Network_1854_v3.xls\t(in=43520) (out=10854) (deflated 75%)\n",
      "  adding: ../../PHI-Conference-2018/Cholera-Case-Study/resources/pumps_df.pickle\t(in=1020) (out=648) (deflated 36%)\n",
      "  adding: ../../PHI-Conference-2018/Cholera-Case-Study/resources/John_Snow_Social_Network_1854_v2.xls\t(in=43008) (out=10729) (deflated 75%)\n",
      "  adding: ../../PHI-Conference-2018/Cholera-Case-Study/resources/style.css\t(in=709) (out=319) (deflated 55%)\n",
      "  adding: ../../PHI-Conference-2018/Cholera-Case-Study/resources/Whitehead_henry1884.jpg \t(in=134873) (out=126537) (deflated 6%)\n",
      "  adding: ../../PHI-Conference-2018/Cholera-Case-Study/resources/deaths_df.pickle\t(in=8846) (out=4495) (deflated 49%)\n",
      "  adding: ../../PHI-Conference-2018/Cholera-Case-Study/resources/John_Snow_Social_Network_1854_v7.xls\t(in=43520) (out=10859) (deflated 75%)\n",
      "  adding: ../../PHI-Conference-2018/resources/\t(in=0) (out=0) (stored 0%)\n",
      "  adding: ../../PHI-Conference-2018/resources/library.py\t(in=556) (out=336) (deflated 40%)\n",
      "  adding: ../../PHI-Conference-2018/resources/style.css\t(in=709) (out=319) (deflated 55%)\n",
      "  adding: ../../PHI-Conference-2018/README.ipynb\t(in=3327) (out=1068) (deflated 68%)\n",
      "  adding: ../../PHI-Conference-2018/Exercise-Notebooks/\t(in=0) (out=0) (stored 0%)\n",
      "  adding: ../../PHI-Conference-2018/Exercise-Notebooks/NB02-Markdown-Exercise2.ipynb\t(in=4573) (out=1408) (deflated 69%)\n",
      "  adding: ../../PHI-Conference-2018/Exercise-Notebooks/images/\t(in=0) (out=0) (stored 0%)\n",
      "  adding: ../../PHI-Conference-2018/Exercise-Notebooks/images/Sir_Edwin_Chadwick2.jpg \t(in=223308) (out=222311) (deflated 0%)\n",
      "  adding: ../../PHI-Conference-2018/Exercise-Notebooks/images/Jupyter_files.jpg\t(in=29084) (out=16261) (deflated 44%)\n",
      "  adding: ../../PHI-Conference-2018/Exercise-Notebooks/images/Florence_Nightingale.jpg \t(in=134296) (out=132255) (deflated 2%)\n",
      "  adding: ../../PHI-Conference-2018/Exercise-Notebooks/images/Queen_Victoria.jpg \t(in=165189) (out=165151) (deflated 0%)\n",
      "  adding: ../../PHI-Conference-2018/Exercise-Notebooks/images/TimBrown.png \t(in=1864376) (out=1864243) (deflated 0%)\n",
      "  adding: ../../PHI-Conference-2018/Exercise-Notebooks/images/.ipynb_checkpoints/\t(in=0) (out=0) (stored 0%)\n",
      "  adding: ../../PHI-Conference-2018/Exercise-Notebooks/images/John_Simon.jpg \t(in=182561) (out=182404) (deflated 0%)\n",
      "  adding: ../../PHI-Conference-2018/Exercise-Notebooks/images/Jupyter_files3.JPG \t(in=84595) (out=44030) (deflated 48%)\n",
      "  adding: ../../PHI-Conference-2018/Exercise-Notebooks/images/William_Farr.jpg \t(in=243183) (out=243130) (deflated 0%)\n",
      "  adding: ../../PHI-Conference-2018/Exercise-Notebooks/images/John_Snow.jpg \t(in=354139) (out=353852) (deflated 0%)\n",
      "  adding: ../../PHI-Conference-2018/Exercise-Notebooks/images/Jon_Snow.jpg\t(in=22266) (out=21995) (deflated 1%)\n",
      "  adding: ../../PHI-Conference-2018/Exercise-Notebooks/images/Edmund_Alexander_Parkes.jpg \t(in=222297) (out=222332) (deflated 0%)\n",
      "  adding: ../../PHI-Conference-2018/Exercise-Notebooks/images/Edwin_Lankester.jpg \t(in=225317) (out=225268) (deflated 0%)\n",
      "  adding: ../../PHI-Conference-2018/Exercise-Notebooks/images/Workhouse_Nantwich.jpg \t(in=465729) (out=463940) (deflated 0%)\n",
      "  adding: ../../PHI-Conference-2018/Exercise-Notebooks/images/Whitehead_henry1884.jpg \t(in=134873) (out=126537) (deflated 6%)\n",
      "  adding: ../../PHI-Conference-2018/Exercise-Notebooks/images/map_1.png \t(in=283999) (out=252227) (deflated 11%)\n",
      "  adding: ../../PHI-Conference-2018/Exercise-Notebooks/data/\t(in=0) (out=0) (stored 0%)\n",
      "  adding: ../../PHI-Conference-2018/Exercise-Notebooks/data/us-states.json \t(in=87688) (out=29001) (deflated 67%)\n",
      "  adding: ../../PHI-Conference-2018/Exercise-Notebooks/data/us_pop_landscan2015.csv\t(in=4399) (out=2263) (deflated 49%)\n",
      "  adding: ../../PHI-Conference-2018/Exercise-Notebooks/data/us_states.geojson \t(in=103466) (out=30745) (deflated 70%)\n",
      "  adding: ../../PHI-Conference-2018/Exercise-Notebooks/.ipynb_checkpoints/\t(in=0) (out=0) (stored 0%)\n",
      "  adding: ../../PHI-Conference-2018/Exercise-Notebooks/.ipynb_checkpoints/NB04-Data-Visualization-Slideshow-checkpoint.ipynb \t(in=2135267) (out=982263) (deflated 54%)\n",
      "  adding: ../../PHI-Conference-2018/Exercise-Notebooks/.ipynb_checkpoints/NB06-Layers_of_Code_Design_Thinking-checkpoint.ipynb\t(in=6521) (out=2945) (deflated 55%)\n",
      "  adding: ../../PHI-Conference-2018/Exercise-Notebooks/.ipynb_checkpoints/NB01-Markdown-Exercise1-checkpoint.ipynb\t(in=2535) (out=893) (deflated 65%)\n",
      "  adding: ../../PHI-Conference-2018/Exercise-Notebooks/.ipynb_checkpoints/NB04-Data-Visualization-checkpoint.ipynb \t(in=2545967) (out=1005655) (deflated 61%)\n",
      "  adding: ../../PHI-Conference-2018/Exercise-Notebooks/.ipynb_checkpoints/NB03-Data-Management-checkpoint.ipynb\t(in=11906) (out=3159) (deflated 73%)\n",
      "  adding: ../../PHI-Conference-2018/Exercise-Notebooks/.ipynb_checkpoints/NB05-Social-Network-Dr-John-Snow-checkpoint.ipynb \t(in=93389) (out=54052) (deflated 42%)\n",
      "  adding: ../../PHI-Conference-2018/Exercise-Notebooks/.ipynb_checkpoints/NB00-Design-Thinking-Notebook-checkpoint.ipynb\t(in=6323) (out=2271) (deflated 64%)\n",
      "  adding: ../../PHI-Conference-2018/Exercise-Notebooks/.ipynb_checkpoints/NB02-Markdown-Exercise2-checkpoint.ipynb\t(in=4249) (out=1376) (deflated 68%)\n",
      "  adding: ../../PHI-Conference-2018/Exercise-Notebooks/NB04-Data-Visualization-Slideshow.ipynb \t(in=2135267) (out=982263) (deflated 54%)\n",
      "  adding: ../../PHI-Conference-2018/Exercise-Notebooks/NB03-Data-Management.ipynb\t(in=11388) (out=2947) (deflated 74%)\n",
      "  adding: ../../PHI-Conference-2018/Exercise-Notebooks/NB04-Data-Visualization.ipynb \t(in=2134887) (out=982026) (deflated 54%)\n",
      "  adding: ../../PHI-Conference-2018/Exercise-Notebooks/NB01-Markdown-Exercise1.ipynb\t(in=5197) (out=1910) (deflated 63%)\n",
      "  adding: ../../PHI-Conference-2018/Exercise-Notebooks/resources/\t(in=0) (out=0) (stored 0%)\n",
      "  adding: ../../PHI-Conference-2018/Exercise-Notebooks/resources/John_Snow_Social_Network_1854_v5.xls\t(in=43008) (out=10743) (deflated 75%)\n",
      "  adding: ../../PHI-Conference-2018/Exercise-Notebooks/resources/johnsnow.csv\t(in=11199) (out=2343) (deflated 79%)\n",
      "  adding: ../../PHI-Conference-2018/Exercise-Notebooks/resources/johnsnow_pumps.csv\t(in=212) (out=108) (deflated 49%)\n",
      "  adding: ../../PHI-Conference-2018/Exercise-Notebooks/resources/Colormaps_0.html\t(in=0) (out=0) (stored 0%)\n",
      "  adding: ../../PHI-Conference-2018/Exercise-Notebooks/resources/cholera_deaths.csv\t(in=6607) (out=2056) (deflated 69%)\n",
      "  adding: ../../PHI-Conference-2018/Exercise-Notebooks/resources/Heatmap.html\t(in=9077) (out=4200) (deflated 54%)\n",
      "  adding: ../../PHI-Conference-2018/Exercise-Notebooks/resources/John_Snow_Social_Network_1854_v6.xls\t(in=43008) (out=10749) (deflated 75%)\n",
      "  adding: ../../PHI-Conference-2018/Exercise-Notebooks/resources/library.py\t(in=555) (out=335) (deflated 40%)\n",
      "  adding: ../../PHI-Conference-2018/Exercise-Notebooks/resources/.ipynb_checkpoints/\t(in=0) (out=0) (stored 0%)\n",
      "  adding: ../../PHI-Conference-2018/Exercise-Notebooks/resources/John_Snow_Social_Network_1854.xls\t(in=41472) (out=10386) (deflated 75%)\n",
      "  adding: ../../PHI-Conference-2018/Exercise-Notebooks/resources/John_Snow_Social_Network_1854.csv\t(in=4108) (out=1739) (deflated 58%)\n",
      "  adding: ../../PHI-Conference-2018/Exercise-Notebooks/resources/mean_center_df.pickle\t(in=13122) (out=5763) (deflated 56%)\n",
      "  adding: ../../PHI-Conference-2018/Exercise-Notebooks/resources/John_Snow_Social_Network_1854_v4.xls\t(in=43008) (out=10725) (deflated 75%)\n",
      "  adding: ../../PHI-Conference-2018/Exercise-Notebooks/resources/journal.pone.0186744.pdf \t(in=6296521) (out=5807768) (deflated 8%)\n",
      "  adding: ../../PHI-Conference-2018/Exercise-Notebooks/resources/John_Snow_Social_Network_1854_v3.xls\t(in=43520) (out=10854) (deflated 75%)\n",
      "  adding: ../../PHI-Conference-2018/Exercise-Notebooks/resources/pumps_df.pickle\t(in=1020) (out=648) (deflated 36%)\n",
      "  adding: ../../PHI-Conference-2018/Exercise-Notebooks/resources/John_Snow_Social_Network_1854_v2.xls\t(in=43008) (out=10729) (deflated 75%)\n",
      "  adding: ../../PHI-Conference-2018/Exercise-Notebooks/resources/style.css\t(in=709) (out=319) (deflated 55%)\n",
      "  adding: ../../PHI-Conference-2018/Exercise-Notebooks/resources/Whitehead_henry1884.jpg \t(in=134873) (out=126537) (deflated 6%)\n",
      "  adding: ../../PHI-Conference-2018/Exercise-Notebooks/resources/deaths_df.pickle\t(in=8846) (out=4495) (deflated 49%)\n",
      "  adding: ../../PHI-Conference-2018/Exercise-Notebooks/resources/John_Snow_Social_Network_1854_v7.xls\t(in=43520) (out=10859) (deflated 75%)\n",
      "  adding: ../../PHI-Conference-2018/Exercise-Notebooks/NB06-Layers_of_Code_Design_Thinking.ipynb\t(in=6521) (out=2945) (deflated 55%)\n",
      "  adding: ../../PHI-Conference-2018/Exercise-Notebooks/NB00-Design-Thinking-Notebook.ipynb\t(in=6323) (out=2271) (deflated 64%)\n",
      "  adding: ../../PHI-Conference-2018/Exercise-Notebooks/NB05-Social-Network-Dr-John-Snow.ipynb \t(in=93389) (out=54052) (deflated 42%)\n",
      "total bytes=51908927, compressed=45089942 -> 13% savings\n"
     ]
    },
    {
     "name": "stderr",
     "output_type": "stream",
     "text": [
      "rm: cannot remove 'Cholera-Case-Study.zip': No such file or directory\n"
     ]
    }
   ],
   "source": [
    "%%bash\n",
    "# let's remove any previous zip file\n",
    "rm Cholera-Case-Study.zip\n",
    "\n",
    "# let's zip the Cholera-Case-Study folder into a compressed zip file in the current directory\n",
    "# the -r option compresses subdirectories and files within subdirectories\n",
    "# the -v option (for verbose) displays more processing messages from the zip command\n",
    "zip -rv Cholera-Case-Study ../../PHI-Conference-2018"
   ]
  },
  {
   "cell_type": "code",
   "execution_count": 4,
   "metadata": {},
   "outputs": [
    {
     "name": "stdout",
     "output_type": "stream",
     "text": [
      "total 44108\n",
      "drwxr-xr-x 3 jovyan users     4096 Aug 17 22:00 .\n",
      "drwxr-xr-x 8 jovyan users     4096 Aug 17 21:09 ..\n",
      "-rw-r--r-- 1 jovyan users 45127314 Aug 17 22:00 Cholera-Case-Study.zip\n",
      "drwxr-xr-x 2 jovyan users     4096 Aug  8 23:53 .ipynb_checkpoints\n",
      "-rw-r--r-- 1 jovyan users    20762 Aug 17 21:59 Packaging-Notebook.ipynb\n"
     ]
    }
   ],
   "source": [
    "%%bash\n",
    "# the 'ls' command below should display files in the current directory, including Cholera-Case-Study.zip\n",
    "ls -la"
   ]
  },
  {
   "cell_type": "markdown",
   "metadata": {},
   "source": [
    "## Download the zip file"
   ]
  },
  {
   "cell_type": "markdown",
   "metadata": {},
   "source": [
    "1. Download the `Cholera-Case-Study.zip` file [here](./Cholera-Case-Study.zip) to your computer. This file should take a while to download because of the file size.  \n",
    "2. Open the downloaded zip file to check if the four main folders for the case study have been included.\n",
    "3. Launch the `Using-Microsoft-Azure-Notebook.ipynb` notebook to start using this case study in Microsoft Azure Notebook web site. Follow the instructions in that notebook to get started."
   ]
  },
  {
   "cell_type": "code",
   "execution_count": null,
   "metadata": {},
   "outputs": [],
   "source": []
  }
 ],
 "metadata": {
  "kernelspec": {
   "display_name": "Python 3",
   "language": "python",
   "name": "python3"
  },
  "language_info": {
   "codemirror_mode": {
    "name": "ipython",
    "version": 3
   },
   "file_extension": ".py",
   "mimetype": "text/x-python",
   "name": "python",
   "nbconvert_exporter": "python",
   "pygments_lexer": "ipython3",
   "version": "3.6.6"
  },
  "nbTranslate": {
   "displayLangs": [
    "*"
   ],
   "hotkey": "alt-t",
   "langInMainMenu": true,
   "sourceLang": "en",
   "targetLang": "fr",
   "useGoogleTranslate": true
  }
 },
 "nbformat": 4,
 "nbformat_minor": 2
}
