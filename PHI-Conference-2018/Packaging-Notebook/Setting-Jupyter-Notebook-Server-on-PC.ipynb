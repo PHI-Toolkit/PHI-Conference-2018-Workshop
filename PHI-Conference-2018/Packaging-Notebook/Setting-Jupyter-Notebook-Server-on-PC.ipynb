{
 "cells": [
  {
   "cell_type": "markdown",
   "metadata": {},
   "source": [
    "# Setting Up Jupyter Notebook on your PC or Mac"
   ]
  },
  {
   "cell_type": "markdown",
   "metadata": {},
   "source": [
    "## Steps"
   ]
  },
  {
   "cell_type": "markdown",
   "metadata": {},
   "source": [
    "1. `git clone https://github.com/PHI-Toolkit/jupyterhub-deploy-docker-localhost -b stacks-0.2`\n",
    "2. Follow instructions on README. Make sure you have at least 8GB of memory and enough space to install:\n",
    "   a. Docker\n",
    "   b. docker-compose\n",
    "3. `Google` instructions for MacOS, Linux or Windows to set up #2."
   ]
  },
  {
   "cell_type": "code",
   "execution_count": null,
   "metadata": {},
   "outputs": [],
   "source": []
  }
 ],
 "metadata": {
  "kernelspec": {
   "display_name": "Python 3",
   "language": "python",
   "name": "python3"
  },
  "language_info": {
   "codemirror_mode": {
    "name": "ipython",
    "version": 3
   },
   "file_extension": ".py",
   "mimetype": "text/x-python",
   "name": "python",
   "nbconvert_exporter": "python",
   "pygments_lexer": "ipython3",
   "version": "3.6.6"
  },
  "nbTranslate": {
   "displayLangs": [
    "*"
   ],
   "hotkey": "alt-t",
   "langInMainMenu": true,
   "sourceLang": "en",
   "targetLang": "fr",
   "useGoogleTranslate": true
  }
 },
 "nbformat": 4,
 "nbformat_minor": 2
}
