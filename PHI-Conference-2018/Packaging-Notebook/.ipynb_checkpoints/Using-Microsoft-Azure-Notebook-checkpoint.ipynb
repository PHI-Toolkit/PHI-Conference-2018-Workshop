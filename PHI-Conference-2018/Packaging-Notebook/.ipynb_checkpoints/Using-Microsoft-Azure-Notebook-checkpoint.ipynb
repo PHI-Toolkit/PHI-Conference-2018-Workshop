{
 "cells": [
  {
   "cell_type": "code",
   "execution_count": 1,
   "metadata": {},
   "outputs": [
    {
     "data": {
      "text/html": [
       "<style> \n",
       "div.text_cell_render { /* Customize text cells */ \n",
       "    font-family: 'Arial'; \n",
       "    font-size:20px;\n",
       "    line-height: 1.5em;\n",
       "    padding-left:3em; \n",
       "    padding-right:3em; \n",
       "}\n",
       ".CodeMirror {\n",
       "    font-family:  'Source Code Pro', monospace;\n",
       "    font-size: 18px;\n",
       "}\n",
       "\n",
       "/* Cell output */\n",
       "\n",
       ".rendered_html pre, .rendered_html code {\n",
       "    color: inherit !important;\n",
       "    background-color: inherit !important;\n",
       "}\n",
       "div.output_area pre {\n",
       "    line-height: 1.2em;\n",
       "    color: #93a1a1 !important;\n",
       "    font-family: 'Source Code Pro', monospace;\n",
       "    font-size: 16px;\n",
       "}\n",
       ".rendered_html table, .rendered_html td, .rendered_html th {\n",
       "    border: 1px solid #586e75 !important;\n",
       "    font-family: 'Arial';\n",
       "    font-size: 16px;\n",
       "}\n",
       "</style>"
      ],
      "text/plain": [
       "<IPython.core.display.HTML object>"
      ]
     },
     "execution_count": 1,
     "metadata": {},
     "output_type": "execute_result"
    }
   ],
   "source": [
    "%run ../resources/library.py\n",
    "style_notebook()"
   ]
  },
  {
   "cell_type": "markdown",
   "metadata": {},
   "source": [
    "# Using your Digital Case Study in Microsoft Azure Notebook"
   ]
  },
  {
   "cell_type": "markdown",
   "metadata": {},
   "source": [
    "Go to https://notebooks.azure.com"
   ]
  },
  {
   "cell_type": "markdown",
   "metadata": {},
   "source": [
    "![](images/MS001.png)"
   ]
  },
  {
   "cell_type": "markdown",
   "metadata": {},
   "source": [
    "## Create or Log in to your Microsoft Azure Account"
   ]
  },
  {
   "cell_type": "markdown",
   "metadata": {},
   "source": [
    "![](images/MS002.png)"
   ]
  },
  {
   "cell_type": "markdown",
   "metadata": {},
   "source": [
    "## Steps after authentication"
   ]
  },
  {
   "cell_type": "markdown",
   "metadata": {},
   "source": [
    "1. Copy the Microsoft Azure Notebook digital case study package for the conference [here](https://notebooks.azure.com/hermantolentino/libraries/phi-conference-2018-atlanta). \n",
    "2. Clone this folder to your account and start working on your digital case study. \n",
    "3. Start using the package by running the `PHI-Conference-2018-Azure.ipynb` notebook. This notebook has extra steps after the \"Congratulations!\" to load the `folium` and `gtts` packages. "
   ]
  },
  {
   "cell_type": "markdown",
   "metadata": {},
   "source": [
    "## Enjoy!"
   ]
  },
  {
   "cell_type": "code",
   "execution_count": null,
   "metadata": {},
   "outputs": [],
   "source": []
  }
 ],
 "metadata": {
  "kernelspec": {
   "display_name": "Python 3",
   "language": "python",
   "name": "python3"
  },
  "language_info": {
   "codemirror_mode": {
    "name": "ipython",
    "version": 3
   },
   "file_extension": ".py",
   "mimetype": "text/x-python",
   "name": "python",
   "nbconvert_exporter": "python",
   "pygments_lexer": "ipython3",
   "version": "3.6.6"
  },
  "nbTranslate": {
   "displayLangs": [
    "*"
   ],
   "hotkey": "alt-t",
   "langInMainMenu": true,
   "sourceLang": "en",
   "targetLang": "fr",
   "useGoogleTranslate": true
  }
 },
 "nbformat": 4,
 "nbformat_minor": 2
}
