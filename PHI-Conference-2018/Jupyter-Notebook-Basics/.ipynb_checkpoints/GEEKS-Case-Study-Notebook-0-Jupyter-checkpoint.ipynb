{
 "cells": [
  {
   "cell_type": "code",
   "execution_count": 12,
   "metadata": {
    "init_cell": true
   },
   "outputs": [
    {
     "data": {
      "text/html": [
       "<style> \n",
       "div.text_cell_render { /* Customize text cells */ \n",
       "    font-family: 'Arial'; \n",
       "    font-size:20px;\n",
       "    line-height: 1.5em;\n",
       "    padding-left:3em; \n",
       "    padding-right:3em; \n",
       "}\n",
       ".CodeMirror {\n",
       "    font-family:  'Source Code Pro', monospace;\n",
       "    font-size: 18px;\n",
       "}\n",
       "\n",
       "/* Cell output */\n",
       "\n",
       ".rendered_html pre, .rendered_html code {\n",
       "    color: inherit !important;\n",
       "    background-color: inherit !important;\n",
       "}\n",
       "div.output_area pre {\n",
       "    line-height: 1.2em;\n",
       "    color: #93a1a1 !important;\n",
       "    font-family: 'Source Code Pro', monospace;\n",
       "    font-size: 16px;\n",
       "}\n",
       ".rendered_html table, .rendered_html td, .rendered_html th {\n",
       "    border: 1px solid #586e75 !important;\n",
       "    font-family: 'Arial';\n",
       "    font-size: 16px;\n",
       "}\n",
       "</style>"
      ],
      "text/plain": [
       "<IPython.core.display.HTML object>"
      ]
     },
     "execution_count": 12,
     "metadata": {},
     "output_type": "execute_result"
    }
   ],
   "source": [
    "# All notebooks in this case study package will have this tiny piece of Python code \n",
    "#  at the beginning. Run this code to create an optimal viewing experience for this case. \n",
    "%run ../resources/library.py\n",
    "style_notebook()"
   ]
  },
  {
   "cell_type": "markdown",
   "metadata": {},
   "source": [
    "# Notebook 0: Before You Begin, A Gentle Introduction to Digital Case Studies Using Jupyter Notebooks"
   ]
  },
  {
   "cell_type": "markdown",
   "metadata": {},
   "source": [
    "## Growing Expertise in E-Health Knowledge and Skills (GEEKS)"
   ]
  },
  {
   "cell_type": "markdown",
   "metadata": {},
   "source": [
    "Welcome to the Growing Expertise in E-Health Knowledge and Skills (GEEKS) Digital Case Studies. GEEKS is a three-tiered, applied training program to enable public health workers to gain informatics skills and knowledge at various levels of expertise."
   ]
  },
  {
   "cell_type": "markdown",
   "metadata": {},
   "source": [
    "## Navigating through Jupyter Notebook Cells"
   ]
  },
  {
   "cell_type": "markdown",
   "metadata": {},
   "source": [
    "Welcome to the Jupyter Notebooks digital case study!\n",
    "<img src=\"./images/Shift-Enter.png\" alt=\"drawing\" style=\"float: left; padding: 0px 10px 0px 0px\"/>\n",
    "\n",
    "Throughout the notebook, pressing `Shift-Enter` (press and hold `Shift`, then, while still holding the `Shift` key, press `Enter`) will enable you to move from one cell to the other quickly, without having the click the `Run` button above. Doing this in rapid succession will allow you to jump from one cell to the next, whether it's a code cell or a [MarkDown](https://en.wikipedia.org/wiki/Markdown) cell (like this one).\n",
    "\n",
    "**Important Note:** If you are running these notebooks on a Notebook Server outside of GEEKS training, please make sure you run the code on Notebook 2 (Extras). \n",
    "\n",
    "Try it on the code cell below!\n"
   ]
  },
  {
   "cell_type": "code",
   "execution_count": 2,
   "metadata": {},
   "outputs": [
    {
     "name": "stdout",
     "output_type": "stream",
     "text": [
      "Hello World!\n"
     ]
    }
   ],
   "source": [
    "# Press Shift-Enter \n",
    "print(\"Hello World!\")"
   ]
  },
  {
   "cell_type": "markdown",
   "metadata": {},
   "source": [
    "The \"Hello, World!\" exercise is the usually the first programming command that one learns when learning to code."
   ]
  },
  {
   "cell_type": "markdown",
   "metadata": {},
   "source": [
    "## Learning About Jupyter Notebooks and Data Science"
   ]
  },
  {
   "cell_type": "markdown",
   "metadata": {},
   "source": [
    "### Jupyter Notebooks"
   ]
  },
  {
   "cell_type": "markdown",
   "metadata": {},
   "source": [
    "[Jupyter Notebooks](http://jupyter.org/) is an open-source web application that allows you to create and share documents that contain live code, equations, visualizations and narrative text, and teach [reproducible data science](https://www.sciencedirect.com/science/article/pii/S1877050916310006). Jupyter Notebooks also  enables the development of [computational narratives](http://archive.ipython.org/JupyterGrantNarrative-2015.pdf) - the elegant mix of multimedia storytelling and scientific computing, on the same page. This has enabled the GEEKS team to create digital case studies for teaching informatics, which is how to create value from systematic transformation of data into information, and information to knowledge, such that it can be used for timely decision-making for improving population health. "
   ]
  },
  {
   "cell_type": "markdown",
   "metadata": {},
   "source": [
    "### The Information Value Cycle"
   ]
  },
  {
   "cell_type": "markdown",
   "metadata": {},
   "source": [
    "Data collected increases in value as information systems transform data to information and to knowledge, and enable effective use of the data to improve population health. By applying informatics problem solving knowledge and skills, informatics practitioners are able to diagnose gaps in value creation and implement solutions to maximize benefits (value) from investments (time, money, effort) in information systems.\n",
    "\n",
    "See the Information Value Cycle diagram below.\n",
    "![Information Value Cycle](./images/IVC3.png)"
   ]
  },
  {
   "cell_type": "markdown",
   "metadata": {},
   "source": [
    "### Learning Basic Coding in Python"
   ]
  },
  {
   "cell_type": "markdown",
   "metadata": {},
   "source": [
    "<img src=\"./images/python.png\" alt=\"Python\" style=\"float: left; padding: 0px 10px 0px 0px\"/>\n",
    "Let's have some fun with basic coding. Throughout this digital case study, we will use the Python programming language. The Python programming language was conceived in the early 1980s and was primarily authored by Guido van Rossum. It was actually named for the BBC TV show [Monty Python's Flying Circus](http://www.bbc.co.uk/comedy/montypython/) and not the reptile, the python snake, as shown in the picture."
   ]
  },
  {
   "cell_type": "markdown",
   "metadata": {},
   "source": [
    "This is the audio version of \"Hello, World\", written in Python, using Google's<sup> tm </sup>  Text-to-Speech Application Programming Interface (API). (Note: This will not work without an internet connection.)"
   ]
  },
  {
   "cell_type": "code",
   "execution_count": 4,
   "metadata": {},
   "outputs": [
    {
     "data": {
      "text/html": [
       "<audio src=\"./audio/helloWorld!.mp3\" controls><p>If you are reading this, it is because your browser does not support the audio element</p></audio>"
      ],
      "text/plain": [
       "<IPython.core.display.HTML object>"
      ]
     },
     "execution_count": 4,
     "metadata": {},
     "output_type": "execute_result"
    }
   ],
   "source": [
    "from gtts import gTTS\n",
    "\n",
    "# Replace the 'World!' below with your name and run this cell (Press Shift-Enter).\n",
    "my_name = 'World!'\n",
    "\n",
    "# Generate the sound file using the Google Text-To-Speech (TTS) Engine\n",
    "tts = gTTS('hello '+my_name)\n",
    "\n",
    "# Save the sound file to the 'audio' folder\n",
    "tts.save('./audio/hello'+my_name+'.mp3')\n",
    "\n",
    "# Create the audio control with the embedded sound file\n",
    "play_mp3('./audio/hello'+my_name+'.mp3')\n",
    "\n",
    "# An audio control will appear below. \n",
    "# You can click the \"Play\" button to hear the synthesized sound. "
   ]
  },
  {
   "cell_type": "markdown",
   "metadata": {},
   "source": [
    "### Writing Prose in Jupyter Notebook"
   ]
  },
  {
   "cell_type": "markdown",
   "metadata": {},
   "source": [
    "Jupyter Notebook will not be what it is, a tool for developing computational narratives, without `MarkDown` language, which enables us to write stories about informatics problem solving within the notebook itself. If you want to learn more about the history of `MarkDown`, head on to this [blog](http://aaronbeveridge.com/markdown/history.html).\n",
    "\n",
    "You can double-click on this cell (called a `MarkDown` cell) to see the underlying `MarkDown` commands that creates the resulting formatted text when the `MarkDown` cell is executed (also with `Shift-Enter`)."
   ]
  },
  {
   "cell_type": "markdown",
   "metadata": {},
   "source": [
    "Try modifying the text in this `MarkDown` cell!"
   ]
  },
  {
   "cell_type": "markdown",
   "metadata": {},
   "source": [
    "To learn more about `MarkDown`, here is a [cheat sheet](https://github.com/adam-p/markdown-here/wiki/Markdown-Cheatsheet) from GitHub. "
   ]
  },
  {
   "cell_type": "markdown",
   "metadata": {},
   "source": [
    "## The World is Becoming More Digital"
   ]
  },
  {
   "cell_type": "markdown",
   "metadata": {},
   "source": [
    "![Digital Cities](./images/digitalcities.jpeg)\n"
   ]
  },
  {
   "cell_type": "markdown",
   "metadata": {},
   "source": [
    "### The Nature of Work is Shifting"
   ]
  },
  {
   "cell_type": "markdown",
   "metadata": {},
   "source": [
    "Many things that workers do today have the potential to be automated. About 60 percent of all occupations have at least 30 percent of activities that are technically automatable, based on currently demonstrated technologies. On a global scale, the adaptation of currently demonstrated automation technologies could affect 50 percent of the world economy, or 1.2 billion employees and $14.6 trillion in wages. "
   ]
  },
  {
   "cell_type": "markdown",
   "metadata": {},
   "source": [
    "### Tsunami of Disruptive Data-related Technologies"
   ]
  },
  {
   "cell_type": "markdown",
   "metadata": {},
   "source": [
    "A number of data-related disruptive technologies will have a large impact on the world economy in 2025. Underlying these disruptive technologies is the human ability to interpret and transform real world work and data processes and flows into software code, that can amplify our ability to perceive and represent values in things (measurements) and patterns in those processes and flows. "
   ]
  },
  {
   "cell_type": "markdown",
   "metadata": {},
   "source": [
    "![Disruptive Technologies](./images/disruptive_tech.png)"
   ]
  },
  {
   "cell_type": "markdown",
   "metadata": {},
   "source": [
    "### Why Digital Case Studies"
   ]
  },
  {
   "cell_type": "markdown",
   "metadata": {},
   "source": [
    "This Digital Case Study is one of the many small steps to provide the current public health workforce with an opportunity for practical immersion in what will be tomorrow's basic tools for computing and creating value out of data, and a means to share practical knowledge about the application of these tools in the public health setting."
   ]
  },
  {
   "cell_type": "markdown",
   "metadata": {},
   "source": [
    "> **“I hear and I forget. I see and I remember. I do and I understand.”**\n",
    ">\n",
    "> *Confucius*"
   ]
  },
  {
   "cell_type": "markdown",
   "metadata": {},
   "source": [
    "## References"
   ]
  },
  {
   "cell_type": "markdown",
   "metadata": {},
   "source": [
    "### Information Value Cycle"
   ]
  },
  {
   "cell_type": "markdown",
   "metadata": {},
   "source": [
    "1. Taylor, R. S. (1982). Value-added processes in the information life cycle. Journal of the American Society for Information Science, 33, 341-346.\n",
    "2. Public health surveillance  in the  US: Evolution and challenges. MMWR Supplement, July 27, 2012, 61:3-9.\n",
    "3. Types of analytics, https://www.scnsoft.com/blog/4-types-of-data-analytics.\n",
    "4. Monitoring and Evaluation of Digital Health Interventions (WHO, 2016), http://www.who.int/reproductivehealth/publications/mhealth/digital-health-interventions/en/."
   ]
  },
  {
   "cell_type": "markdown",
   "metadata": {},
   "source": [
    "### Digital World"
   ]
  },
  {
   "cell_type": "markdown",
   "metadata": {},
   "source": [
    "1. James Manyika, Technology, jobs, and the future of work. Mckinsey Global Institute. May 2017. URL: https://www.mckinsey.com/featured-insights/employment-and-growth/technology-jobs-and-the-future-of-work\n",
    "2. James Manyika, et al. Disruptive technologies: Advances that will transform life, business, and the global economy. Mckinsey Global Institure. May 2013. URL: https://www.mckinsey.com/business-functions/digital-mckinsey/our-insights/disruptive-technologies"
   ]
  },
  {
   "cell_type": "markdown",
   "metadata": {},
   "source": [
    "### Jupyter Notebooks"
   ]
  },
  {
   "cell_type": "markdown",
   "metadata": {},
   "source": [
    "1. Jupyter Notebook website: http://jupyter.org/\n",
    "2. Jupyter Notebook Online Documentation: https://jupyter-notebook.readthedocs.io/en/stable/\n",
    "3. GitHub site for Jupyter Notebook: https://github.com/jupyter/notebook\n",
    "4. GitHub Gallery of Interesting Jupyter Notebooks: https://github.com/jupyter/jupyter/wiki/A-gallery-of-interesting-Jupyter-Notebooks\n",
    "5. DataQuest Tutorial, \"Jupyter Notebooks for Beginners\": https://www.dataquest.io/blog/jupyter-notebook-tutorial/\n",
    "6. DataCamp Tutorial, \"Jupyter Notebook Tutorial: The Definitive Guide\": https://www.datacamp.com/community/tutorials/tutorial-jupyter-notebook\n",
    "7. Analytics Vidhya Blog, \"Beginner's Guide to Jupyter Notebooks for Data Science and Machine Learning\": https://www.analyticsvidhya.com/blog/2018/05/starters-guide-jupyter-notebook/\n",
    "8. O'Reilly Media: \"What is Jupyter?\": https://www.oreilly.com/ideas/what-is-jupyter\n",
    "9. YouTube, \"Jupyter Trips and Tricks\": https://www.youtube.com/watch?v=2eCHD6f_phE"
   ]
  },
  {
   "cell_type": "markdown",
   "metadata": {},
   "source": [
    "### Programming in Python"
   ]
  },
  {
   "cell_type": "markdown",
   "metadata": {},
   "source": [
    "1. Official Python Web Site: https://www.python.org/\n",
    "2. WikiPedia, Python (Programming Language) Web Page: https://en.wikipedia.org/wiki/Python_(programming_language)\n",
    "3. Codecademy, Learn to Code in Python: https://www.codecademy.com/en/tracks/python\n",
    "4. How-To-Geek, Python Trivia Question: https://www.howtogeek.com/trivia/the-python-programming-language-is-named-after-a/ "
   ]
  },
  {
   "cell_type": "code",
   "execution_count": null,
   "metadata": {},
   "outputs": [],
   "source": []
  }
 ],
 "metadata": {
  "celltoolbar": "Initialization Cell",
  "kernelspec": {
   "display_name": "Python 3",
   "language": "python",
   "name": "python3"
  },
  "language_info": {
   "codemirror_mode": {
    "name": "ipython",
    "version": 3
   },
   "file_extension": ".py",
   "mimetype": "text/x-python",
   "name": "python",
   "nbconvert_exporter": "python",
   "pygments_lexer": "ipython3",
   "version": "3.6.6"
  },
  "nbTranslate": {
   "displayLangs": [
    "*"
   ],
   "hotkey": "alt-t",
   "langInMainMenu": true,
   "sourceLang": "en",
   "targetLang": "fr",
   "useGoogleTranslate": true
  }
 },
 "nbformat": 4,
 "nbformat_minor": 2
}
