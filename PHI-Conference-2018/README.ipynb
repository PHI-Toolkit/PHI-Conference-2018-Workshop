{
 "cells": [
  {
   "cell_type": "markdown",
   "metadata": {},
   "source": [
    "# Package Description"
   ]
  },
  {
   "cell_type": "markdown",
   "metadata": {},
   "source": [
    "## Folders"
   ]
  },
  {
   "cell_type": "markdown",
   "metadata": {},
   "source": [
    "### Cholera-Case-Study"
   ]
  },
  {
   "cell_type": "markdown",
   "metadata": {},
   "source": [
    "Use this folder to create your Cholera Case Study. There is a template notebook included in this folder which you can use to get started quickly."
   ]
  },
  {
   "cell_type": "markdown",
   "metadata": {},
   "source": [
    "### Exercise-Notebooks"
   ]
  },
  {
   "cell_type": "markdown",
   "metadata": {},
   "source": [
    "Use this folder to practice writing digital cases using Jupyter Notebook. There are several notebooks in this folder:\n",
    "1. Design-Thinking-Notebook.ipynb: Use this notebook to learn more about design thinking and how to apply it to the development of digital case studies.\n",
    "2. \"NB0X\" notebooks: Use these notebooks to learn how to create different digital case study components: narratives, code for data management, code for mapping and visualizations\n",
    "\n"
   ]
  },
  {
   "cell_type": "markdown",
   "metadata": {},
   "source": [
    "### Jupyter-Notebook-Basics"
   ]
  },
  {
   "cell_type": "markdown",
   "metadata": {},
   "source": [
    "Use this folder to learn more about Jupyter Notebook and Digital Case Studies."
   ]
  },
  {
   "cell_type": "markdown",
   "metadata": {},
   "source": [
    "### Packaging-Notebook"
   ]
  },
  {
   "cell_type": "markdown",
   "metadata": {},
   "source": [
    "This folder contains the notebook to be used for packing the digital case study into a zip file that you can download and re-use."
   ]
  },
  {
   "cell_type": "markdown",
   "metadata": {},
   "source": [
    "# Steps"
   ]
  },
  {
   "cell_type": "markdown",
   "metadata": {},
   "source": [
    "1. Review Jupyter Notebook Basics by going through `GEEKS-Case-Study-Notebook-0-Jupyter.ipynb` under the `Jupyter-Notebook-Basics` folder.\n",
    "2. Go through the Jupyter Notebook Exercises under the `Exercise-Notebooks` folder. There are several notebooks in that folder numbered sequentially. Go through each notebook in numerical sequence as a group.\n",
    "3. After you have reviewed all the exercises, go to the `Cholera-Case-Study` folder. Inside that folder, you will find a barebones structure with an empty notebook. Go create your digital case study! Remember to work as a team and use design thinking principles!"
   ]
  },
  {
   "cell_type": "code",
   "execution_count": null,
   "metadata": {},
   "outputs": [],
   "source": []
  }
 ],
 "metadata": {
  "kernelspec": {
   "display_name": "Python 3",
   "language": "python",
   "name": "python3"
  },
  "language_info": {
   "codemirror_mode": {
    "name": "ipython",
    "version": 3
   },
   "file_extension": ".py",
   "mimetype": "text/x-python",
   "name": "python",
   "nbconvert_exporter": "python",
   "pygments_lexer": "ipython3",
   "version": "3.6.6"
  },
  "nbTranslate": {
   "displayLangs": [
    "*"
   ],
   "hotkey": "alt-t",
   "langInMainMenu": true,
   "sourceLang": "en",
   "targetLang": "fr",
   "useGoogleTranslate": true
  }
 },
 "nbformat": 4,
 "nbformat_minor": 2
}
