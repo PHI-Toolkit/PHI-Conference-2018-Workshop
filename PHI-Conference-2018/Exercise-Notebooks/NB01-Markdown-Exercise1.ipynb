{
 "cells": [
  {
   "cell_type": "markdown",
   "metadata": {},
   "source": [
    "Before you get started, run the cell below (press [Shift] + [Enter] or click \"Run\" in the toolbar) to make the notebook text larger and more readable."
   ]
  },
  {
   "cell_type": "code",
   "execution_count": 9,
   "metadata": {},
   "outputs": [
    {
     "data": {
      "text/html": [
       "<style> \n",
       "div.text_cell_render { /* Customize text cells */ \n",
       "    font-family: 'Arial'; \n",
       "    font-size:20px;\n",
       "    line-height: 1.5em;\n",
       "    padding-left:3em; \n",
       "    padding-right:3em; \n",
       "}\n",
       ".CodeMirror {\n",
       "    font-family:  'Source Code Pro', monospace;\n",
       "    font-size: 18px;\n",
       "}\n",
       "\n",
       "/* Cell output */\n",
       "\n",
       ".rendered_html pre, .rendered_html code {\n",
       "    color: inherit !important;\n",
       "    background-color: inherit !important;\n",
       "}\n",
       "div.output_area pre {\n",
       "    line-height: 1.2em;\n",
       "    color: #93a1a1 !important;\n",
       "    font-family: 'Source Code Pro', monospace;\n",
       "    font-size: 16px;\n",
       "}\n",
       ".rendered_html table, .rendered_html td, .rendered_html th {\n",
       "    border: 1px solid #586e75 !important;\n",
       "    font-family: 'Arial';\n",
       "    font-size: 16px;\n",
       "}\n",
       "</style>"
      ],
      "text/plain": [
       "<IPython.core.display.HTML object>"
      ]
     },
     "execution_count": 9,
     "metadata": {},
     "output_type": "execute_result"
    }
   ],
   "source": [
    "%run ./resources/library.py\n",
    "style_notebook()"
   ]
  },
  {
   "cell_type": "markdown",
   "metadata": {},
   "source": [
    "# Notebook 1: Making a Case Study\n",
    "\n"
   ]
  },
  {
   "cell_type": "markdown",
   "metadata": {},
   "source": [
    "## What is a Case Study?"
   ]
  },
  {
   "cell_type": "markdown",
   "metadata": {},
   "source": [
    "A case is a factual description of events that happened at some point in the past (Naumes, William and Naumes, Margaret, Art and Craft of Case Writing, Sharpe Reference; 2nd Edition (March 30, 2006).) Case studies have been used since the 1800s to teach medicine, law and other fields.\n",
    "\n",
    "A traditional case study contains a narrative, reference materials and points at which the students are asked to answer questions and analyze data as if he or she is working the original case. A digital case study provides opportunities to use electronic tools to interact with data, including statistical analysis and data visualization.\n",
    "\n",
    "But before you get to tools, you have to construct the narrative. In Jupyter Notebook, the narrative is written in MarkDown language."
   ]
  },
  {
   "cell_type": "markdown",
   "metadata": {},
   "source": [
    "### Markdown"
   ]
  },
  {
   "cell_type": "markdown",
   "metadata": {},
   "source": [
    "Jupyter Notebook will not be what it is, a tool for developing computational narratives, without `Markdown` language, which enables us to write stories about informatics problem solving within the notebook itself. If you want to learn more about the history of `Markdown`, head on to this [blog](http://aaronbeveridge.com/markdown/history.html). Markdown is similiar to HTML.\n",
    "\n",
    "You can double-click on this cell (called a `Markdown` cell) to see the underlying `Markdown` commands that creates the resulting formatted text when the `Markdown` cell is executed (also with `Shift-Enter`)."
   ]
  },
  {
   "cell_type": "markdown",
   "metadata": {},
   "source": [
    "To learn more about `Markdown`, here is a [cheat sheet](https://github.com/adam-p/markdown-here/wiki/Markdown-Cheatsheet) from GitHub. "
   ]
  },
  {
   "cell_type": "markdown",
   "metadata": {},
   "source": [
    "Insert a new cell below, and use Markdown to describe how you got to the conference today. Don't forget to include a title!"
   ]
  },
  {
   "cell_type": "markdown",
   "metadata": {},
   "source": [
    "## Creating the Narrative"
   ]
  },
  {
   "cell_type": "markdown",
   "metadata": {},
   "source": [
    "  * __Create the context__ - Tell the backstory\n",
    "  * __Provide inputs__ - Give or link to data and information\n",
    "  * __Assign a task__ - Ask students to answer questions, both for discussion and to manipulate data to draw conclusions.\n",
    "  * __Repeat__"
   ]
  },
  {
   "cell_type": "markdown",
   "metadata": {},
   "source": []
  }
 ],
 "metadata": {
  "kernelspec": {
   "display_name": "Python 3",
   "language": "python",
   "name": "python3"
  },
  "language_info": {
   "codemirror_mode": {
    "name": "ipython",
    "version": 3
   },
   "file_extension": ".py",
   "mimetype": "text/x-python",
   "name": "python",
   "nbconvert_exporter": "python",
   "pygments_lexer": "ipython3",
   "version": "3.6.6"
  },
  "nbTranslate": {
   "displayLangs": [
    "*"
   ],
   "hotkey": "alt-t",
   "langInMainMenu": true,
   "sourceLang": "en",
   "targetLang": "fr",
   "useGoogleTranslate": true
  }
 },
 "nbformat": 4,
 "nbformat_minor": 2
}
