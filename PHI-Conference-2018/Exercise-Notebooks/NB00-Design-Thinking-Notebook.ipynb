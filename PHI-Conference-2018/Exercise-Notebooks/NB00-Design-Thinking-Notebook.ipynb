{
 "cells": [
  {
   "cell_type": "code",
   "execution_count": 1,
   "metadata": {},
   "outputs": [
    {
     "data": {
      "text/html": [
       "<style> \n",
       "div.text_cell_render { /* Customize text cells */ \n",
       "    font-family: 'Arial'; \n",
       "    font-size:20px;\n",
       "    line-height: 1.5em;\n",
       "    padding-left:3em; \n",
       "    padding-right:3em; \n",
       "}\n",
       ".CodeMirror {\n",
       "    font-family:  'Source Code Pro', monospace;\n",
       "    font-size: 18px;\n",
       "}\n",
       "\n",
       "/* Cell output */\n",
       "\n",
       ".rendered_html pre, .rendered_html code {\n",
       "    color: inherit !important;\n",
       "    background-color: inherit !important;\n",
       "}\n",
       "div.output_area pre {\n",
       "    line-height: 1.2em;\n",
       "    color: #93a1a1 !important;\n",
       "    font-family: 'Source Code Pro', monospace;\n",
       "    font-size: 16px;\n",
       "}\n",
       ".rendered_html table, .rendered_html td, .rendered_html th {\n",
       "    border: 1px solid #586e75 !important;\n",
       "    font-family: 'Arial';\n",
       "    font-size: 16px;\n",
       "}\n",
       "</style>"
      ],
      "text/plain": [
       "<IPython.core.display.HTML object>"
      ]
     },
     "execution_count": 1,
     "metadata": {},
     "output_type": "execute_result"
    }
   ],
   "source": [
    "%run ../resources/library.py\n",
    "style_notebook()"
   ]
  },
  {
   "cell_type": "markdown",
   "metadata": {},
   "source": [
    "# Introduction to Design Thinking and Digital Case Studies"
   ]
  },
  {
   "cell_type": "code",
   "execution_count": 2,
   "metadata": {},
   "outputs": [
    {
     "data": {
      "text/html": [
       "<iframe src=\"https://www.youtube.com/embed/a7sEoEvT8l8?title=0&byline=0&portrait=0\" width=\"700\" height=\"394\" frameborder=\"0\" webkitallowfullscreen mozallowfullscreen allowfullscreen></iframe>"
      ],
      "text/plain": [
       "<IPython.core.display.HTML object>"
      ]
     },
     "execution_count": 2,
     "metadata": {},
     "output_type": "execute_result"
    }
   ],
   "source": [
    "show_video(\"https://www.youtube.com/embed/a7sEoEvT8l8\")"
   ]
  },
  {
   "cell_type": "markdown",
   "metadata": {},
   "source": [
    "To learn more about Design Thinking, go to the Stanford D.School [Reading List](https://dschool.stanford.edu/resources/dschool-reading-list)."
   ]
  },
  {
   "cell_type": "markdown",
   "metadata": {},
   "source": [
    "## Design Thinking Applied to Digital Case Studies in Global Health"
   ]
  },
  {
   "cell_type": "markdown",
   "metadata": {},
   "source": [
    "### Case Study Development as a Wicked Problem"
   ]
  },
  {
   "cell_type": "markdown",
   "metadata": {},
   "source": [
    "The development and use of case studies for teaching aims to address multiple design requirements for applied learning:\n",
    "1. Students need to be immersed in a real-world application contexts to stimulate critical thinking behaviors during problem solving and make learning relevant.\n",
    "2. Teaching faculty need a teaching platform to create opportunities for students to apply key concepts learned from classroom lectures. Teacher moves from \"sage-on-stage\" to \"guide-by-the-side\" and let students drive their learning.\n",
    "3. Public health informatics as a discipline needs clear examples to demonstrate the application of its methods and principles.\n",
    "4. Digital case studies can become part of the problem solving toolkit of public health informatics practitioners in similar real-world scenarios. Digital case studies can be readily made accessible to response staff to enable them to apply knowledge embedded in case studies to ongoing public health emergencies.\n",
    "5. Digital case studies create an immersive environment for practicing disciplinary and organizational boundary-spanning during public health informatics problem solving.\n",
    "\n",
    "The development of case studies, including digital case studies, can benefit from an iterative approach that begins with identifying the core problem to tackle and the important concepts to highlight while solving those problems. As stories about real-world events, the background material for case studies often provide a myriad of possibilities that can paralyze the would-be case developer. As a composition of narratives and technological approaches about a complex event, the digital case study can benefit from multi-perspective, multi-stakeholder inputs. \n",
    "\n",
    "As such, it is a good candidate for the iterative application of design thinking steps to enable strategic focus on the what matters during complex problem solving efforts:\n",
    "1. Empathize\n",
    "2. Define\n",
    "3. Ideate\n",
    "4. Prototype\n",
    "5. Test"
   ]
  },
  {
   "cell_type": "markdown",
   "metadata": {},
   "source": [
    "## References"
   ]
  },
  {
   "cell_type": "markdown",
   "metadata": {},
   "source": [
    "1. Bazzano, Alessandra N., et al. \"Human-centred design in global health: A scoping review of applications and contexts.\" PloS one 12.11 (2017): e0186744.\n",
    "2. Sheehan, Norman T., et al. \"Using design thinking to write and publish novel teaching cases: Tips from experienced case authors.\" Journal of Management Education 42.1 (2018): 135-160.\n",
    "3. Tolentino, Herman, et al. \"Case-Based Learning in Public Health Informatics.\" Public Health Informatics and Information Systems. Springer, London, 2014. 489-510."
   ]
  },
  {
   "cell_type": "code",
   "execution_count": null,
   "metadata": {},
   "outputs": [],
   "source": []
  }
 ],
 "metadata": {
  "kernelspec": {
   "display_name": "Python 3",
   "language": "python",
   "name": "python3"
  },
  "language_info": {
   "codemirror_mode": {
    "name": "ipython",
    "version": 3
   },
   "file_extension": ".py",
   "mimetype": "text/x-python",
   "name": "python",
   "nbconvert_exporter": "python",
   "pygments_lexer": "ipython3",
   "version": "3.6.6"
  },
  "nbTranslate": {
   "displayLangs": [
    "*"
   ],
   "hotkey": "alt-t",
   "langInMainMenu": true,
   "sourceLang": "en",
   "targetLang": "fr",
   "useGoogleTranslate": true
  }
 },
 "nbformat": 4,
 "nbformat_minor": 2
}
